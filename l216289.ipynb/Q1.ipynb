{
  "nbformat": 4,
  "nbformat_minor": 0,
  "metadata": {
    "colab": {
      "provenance": []
    },
    "kernelspec": {
      "name": "python3",
      "display_name": "Python 3"
    },
    "language_info": {
      "name": "python"
    }
  },
  "cells": [
    {
      "cell_type": "code",
      "execution_count": 2,
      "metadata": {
        "id": "r9r_1mhYWmDA",
        "colab": {
          "base_uri": "https://localhost:8080/"
        },
        "outputId": "89472500-5e30-445c-8ec8-0ceeaf1f6b5d"
      },
      "outputs": [
        {
          "output_type": "stream",
          "name": "stdout",
          "text": [
            "True\n",
            "None\n",
            "False\n",
            "None\n",
            "True\n",
            "None\n"
          ]
        }
      ],
      "source": [
        "import pandas as pd\n",
        "import numpy as np\n",
        "def check_input(C):\n",
        "  is_check=False\n",
        "  i=0\n",
        "  j=0\n",
        "  n=len(C)\n",
        "  for j in range(n):\n",
        "          for i in range(n):\n",
        "            if C[i][j]!='a':\n",
        "              is_check=True\n",
        "              break\n",
        "  if is_check==True:\n",
        "    for j in range(n):\n",
        "                for i in range(n-1):\n",
        "                  if C[i][j] == C[i+1][j]:\n",
        "                    is_check=False\n",
        "                    break\n",
        "                  else:\n",
        "                    is_check=True\n",
        "                if is_check==True:\n",
        "                  for i in range(n):\n",
        "                    for j in range(n-1):\n",
        "                      if C[j][i] == C[j+1][i]:\n",
        "                        is_check=False\n",
        "                      else:\n",
        "                        is_check=True\n",
        "    if is_check==True:\n",
        "              print(\"True\")\n",
        "    else:\n",
        "             print(\"False\")            \n",
        "  else:          \n",
        "              print (\"False\")\n",
        "          \n",
        "  \n",
        "\n",
        "\n",
        "test1 = [[1, 2, 3],\n",
        "        [2, 3, 1],\n",
        "        [3, 1, 2]]\n",
        "\n",
        "test2 = [[1, 2, 3, 4],\n",
        "        [2, 3, 1, 3],\n",
        "        [3, 1, 2, 3],\n",
        "        [4, 4, 4, 4]]\n",
        "test3 = [['a', 'b', 'c'],\n",
        "        ['b', 'c', 'a'],\n",
        "        ['c', 'a', 'b']]\n",
        "\n",
        "print(check_input(test1)) # must return true\n",
        "print(check_input(test2)) # must return false\n",
        "print(check_input(test3)) # must return false"
      ]
    }
  ]
}