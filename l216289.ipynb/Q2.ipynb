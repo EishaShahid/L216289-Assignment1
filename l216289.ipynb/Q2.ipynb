{
  "nbformat": 4,
  "nbformat_minor": 0,
  "metadata": {
    "colab": {
      "provenance": []
    },
    "kernelspec": {
      "name": "python3",
      "display_name": "Python 3"
    },
    "language_info": {
      "name": "python"
    }
  },
  "cells": [
    {
      "cell_type": "code",
      "execution_count": 68,
      "metadata": {
        "colab": {
          "base_uri": "https://localhost:8080/"
        },
        "id": "ZcqqM7lzRlmF",
        "outputId": "64d5ac00-116d-48ab-f00a-16278dc3d9c0"
      },
      "outputs": [
        {
          "output_type": "stream",
          "name": "stdout",
          "text": [
            "The number of rows are 200\n",
            "\n",
            "The number of empty rows \n",
            "Student name    0\n",
            "Exam name       1\n",
            "Exam date       0\n",
            "Marks           3\n",
            "dtype: int64\n",
            "\n",
            "The empty rows are deleted \n",
            "Student name    0\n",
            "Exam name       0\n",
            "Exam date       0\n",
            "Marks           0\n",
            "dtype: int64\n",
            "\n",
            "The number of rows after deletion:  196\n",
            "\n",
            "The Record:\n",
            "     Student name    Exam name   Exam date  Marks\n",
            "0    James Walker      Biology  05/06/2016   31.0\n",
            "42   James Walker    Chemistry  15/06/2016   61.0\n",
            "71   James Walker  Mathematics  29/07/2016   23.0\n",
            "150  James Walker      Physics  10/06/2016  100.0\n",
            "180  James Walker    Sociology  21/06/2016   73.0\n"
          ]
        }
      ],
      "source": [
        "import pandas as pd\n",
        "import numpy as np\n",
        "from google.colab import files\n",
        "data=files.upload\n",
        "data=pd.read_csv(\"StudentMarkSheet.csv\")\n",
        "print(\"The number of rows are\",len(data))\n",
        "print('')\n",
        "data[0:]\n",
        "rows=0\n",
        "print(\"The number of empty rows \")\n",
        "print(data.isnull().sum())\n",
        "for rows in range(len(data)): #Deleteing Empty Rows\n",
        "   data.dropna(inplace=True)\n",
        "data[0:]   \n",
        "print('')\n",
        "print(\"The empty rows are deleted \")\n",
        "print(data.isnull().sum())\n",
        "print('')\n",
        "print(\"The number of rows after deletion: \",len(data))\n",
        "print('')\n",
        "print(\"The Record:\")\n",
        "print(data[data['Student name'].str.contains('James Walker')])"
      ]
    }
  ]
}